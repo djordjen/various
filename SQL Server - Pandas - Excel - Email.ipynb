{
 "cells": [
  {
   "cell_type": "markdown",
   "metadata": {},
   "source": [
    "# SQL Server -> Pandas -> Excel"
   ]
  },
  {
   "cell_type": "markdown",
   "metadata": {},
   "source": [
    "Import neophodnih biblioteka. Sve bi trebalo da vec imas instalirano, ali ako dobijes gresku tipa `No module named 'pyodbc'` prilikom izvrsenja sljedece linije - modul mozes instalirati komandom `pip install pyodbc` (sa komandne linije)."
   ]
  },
  {
   "cell_type": "code",
   "execution_count": 1,
   "metadata": {},
   "outputs": [],
   "source": [
    "import pandas as pd\n",
    "import pyodbc"
   ]
  },
  {
   "cell_type": "markdown",
   "metadata": {},
   "source": [
    "### Prikupljanje podataka"
   ]
  },
  {
   "cell_type": "markdown",
   "metadata": {},
   "source": [
    "Kreiranje konekcije (nesto nalik VB-u). Ovdje koristim `Integrated Security`, a ukoliko koristis `SQL Authentication` - mozes umjesto `Trusted_Connection=yes` staviti `Trusted_Connection=no;Uid=username;Pwd=password`"
   ]
  },
  {
   "cell_type": "code",
   "execution_count": 2,
   "metadata": {},
   "outputs": [],
   "source": [
    "conn = pyodbc.connect(\"DRIVER={ODBC Driver 13 for SQL Server};SERVER=localhost;DATABASE=Northwind;Trusted_Connection=yes\")"
   ]
  },
  {
   "cell_type": "markdown",
   "metadata": {},
   "source": [
    "Kreiranje odgovarajucih SQL upita (mozes tu unijeti sto god hoces). Ja kreiram dva upita sa razlicim podacima kako bi ih najzad eksportovao u Excel (dva odvojena Sheet-a)"
   ]
  },
  {
   "cell_type": "code",
   "execution_count": 3,
   "metadata": {},
   "outputs": [],
   "source": [
    "sql1 = \"EXEC [dbo].[Ten Most Expensive Products]\"\n",
    "sql2 = \"SELECT TOP 20 * FROM Products\""
   ]
  },
  {
   "cell_type": "markdown",
   "metadata": {},
   "source": [
    "Izvrsavanje SQL upita i smjestanja rezultata u `Pandas DataFrame` objekte `df1` i `df2`"
   ]
  },
  {
   "cell_type": "code",
   "execution_count": 4,
   "metadata": {},
   "outputs": [],
   "source": [
    "df1 = pd.read_sql(sql1, conn)\n",
    "df2 = pd.read_sql(sql2, conn)"
   ]
  },
  {
   "cell_type": "markdown",
   "metadata": {},
   "source": [
    "Ovako izgledaju podaci"
   ]
  },
  {
   "cell_type": "code",
   "execution_count": 5,
   "metadata": {},
   "outputs": [
    {
     "data": {
      "text/html": [
       "<div>\n",
       "<style scoped>\n",
       "    .dataframe tbody tr th:only-of-type {\n",
       "        vertical-align: middle;\n",
       "    }\n",
       "\n",
       "    .dataframe tbody tr th {\n",
       "        vertical-align: top;\n",
       "    }\n",
       "\n",
       "    .dataframe thead th {\n",
       "        text-align: right;\n",
       "    }\n",
       "</style>\n",
       "<table border=\"1\" class=\"dataframe\">\n",
       "  <thead>\n",
       "    <tr style=\"text-align: right;\">\n",
       "      <th></th>\n",
       "      <th>TenMostExpensiveProducts</th>\n",
       "      <th>UnitPrice</th>\n",
       "    </tr>\n",
       "  </thead>\n",
       "  <tbody>\n",
       "    <tr>\n",
       "      <th>0</th>\n",
       "      <td>Côte de Blaye</td>\n",
       "      <td>263.50</td>\n",
       "    </tr>\n",
       "    <tr>\n",
       "      <th>1</th>\n",
       "      <td>Thüringer Rostbratwurst</td>\n",
       "      <td>123.79</td>\n",
       "    </tr>\n",
       "    <tr>\n",
       "      <th>2</th>\n",
       "      <td>Mishi Kobe Niku</td>\n",
       "      <td>97.00</td>\n",
       "    </tr>\n",
       "    <tr>\n",
       "      <th>3</th>\n",
       "      <td>Sir Rodney's Marmalade</td>\n",
       "      <td>81.00</td>\n",
       "    </tr>\n",
       "    <tr>\n",
       "      <th>4</th>\n",
       "      <td>Carnarvon Tigers</td>\n",
       "      <td>62.50</td>\n",
       "    </tr>\n",
       "  </tbody>\n",
       "</table>\n",
       "</div>"
      ],
      "text/plain": [
       "  TenMostExpensiveProducts  UnitPrice\n",
       "0            Côte de Blaye     263.50\n",
       "1  Thüringer Rostbratwurst     123.79\n",
       "2          Mishi Kobe Niku      97.00\n",
       "3   Sir Rodney's Marmalade      81.00\n",
       "4         Carnarvon Tigers      62.50"
      ]
     },
     "execution_count": 5,
     "metadata": {},
     "output_type": "execute_result"
    }
   ],
   "source": [
    "df1.head()"
   ]
  },
  {
   "cell_type": "code",
   "execution_count": 6,
   "metadata": {},
   "outputs": [
    {
     "data": {
      "text/html": [
       "<div>\n",
       "<style scoped>\n",
       "    .dataframe tbody tr th:only-of-type {\n",
       "        vertical-align: middle;\n",
       "    }\n",
       "\n",
       "    .dataframe tbody tr th {\n",
       "        vertical-align: top;\n",
       "    }\n",
       "\n",
       "    .dataframe thead th {\n",
       "        text-align: right;\n",
       "    }\n",
       "</style>\n",
       "<table border=\"1\" class=\"dataframe\">\n",
       "  <thead>\n",
       "    <tr style=\"text-align: right;\">\n",
       "      <th></th>\n",
       "      <th>ProductID</th>\n",
       "      <th>ProductName</th>\n",
       "      <th>SupplierID</th>\n",
       "      <th>CategoryID</th>\n",
       "      <th>QuantityPerUnit</th>\n",
       "      <th>UnitPrice</th>\n",
       "      <th>UnitsInStock</th>\n",
       "      <th>UnitsOnOrder</th>\n",
       "      <th>ReorderLevel</th>\n",
       "      <th>Discontinued</th>\n",
       "    </tr>\n",
       "  </thead>\n",
       "  <tbody>\n",
       "    <tr>\n",
       "      <th>0</th>\n",
       "      <td>1</td>\n",
       "      <td>Chai</td>\n",
       "      <td>1</td>\n",
       "      <td>1</td>\n",
       "      <td>10 boxes x 20 bags</td>\n",
       "      <td>18.00</td>\n",
       "      <td>39</td>\n",
       "      <td>0</td>\n",
       "      <td>10</td>\n",
       "      <td>False</td>\n",
       "    </tr>\n",
       "    <tr>\n",
       "      <th>1</th>\n",
       "      <td>2</td>\n",
       "      <td>Chang</td>\n",
       "      <td>1</td>\n",
       "      <td>1</td>\n",
       "      <td>24 - 12 oz bottles</td>\n",
       "      <td>19.00</td>\n",
       "      <td>17</td>\n",
       "      <td>40</td>\n",
       "      <td>25</td>\n",
       "      <td>False</td>\n",
       "    </tr>\n",
       "    <tr>\n",
       "      <th>2</th>\n",
       "      <td>3</td>\n",
       "      <td>Aniseed Syrup</td>\n",
       "      <td>1</td>\n",
       "      <td>2</td>\n",
       "      <td>12 - 550 ml bottles</td>\n",
       "      <td>10.00</td>\n",
       "      <td>13</td>\n",
       "      <td>70</td>\n",
       "      <td>25</td>\n",
       "      <td>False</td>\n",
       "    </tr>\n",
       "    <tr>\n",
       "      <th>3</th>\n",
       "      <td>4</td>\n",
       "      <td>Chef Anton's Cajun Seasoning</td>\n",
       "      <td>2</td>\n",
       "      <td>2</td>\n",
       "      <td>48 - 6 oz jars</td>\n",
       "      <td>22.00</td>\n",
       "      <td>53</td>\n",
       "      <td>0</td>\n",
       "      <td>0</td>\n",
       "      <td>False</td>\n",
       "    </tr>\n",
       "    <tr>\n",
       "      <th>4</th>\n",
       "      <td>5</td>\n",
       "      <td>Chef Anton's Gumbo Mix</td>\n",
       "      <td>2</td>\n",
       "      <td>2</td>\n",
       "      <td>36 boxes</td>\n",
       "      <td>21.35</td>\n",
       "      <td>0</td>\n",
       "      <td>0</td>\n",
       "      <td>0</td>\n",
       "      <td>True</td>\n",
       "    </tr>\n",
       "  </tbody>\n",
       "</table>\n",
       "</div>"
      ],
      "text/plain": [
       "   ProductID                   ProductName  SupplierID  CategoryID  \\\n",
       "0          1                          Chai           1           1   \n",
       "1          2                         Chang           1           1   \n",
       "2          3                 Aniseed Syrup           1           2   \n",
       "3          4  Chef Anton's Cajun Seasoning           2           2   \n",
       "4          5        Chef Anton's Gumbo Mix           2           2   \n",
       "\n",
       "       QuantityPerUnit  UnitPrice  UnitsInStock  UnitsOnOrder  ReorderLevel  \\\n",
       "0   10 boxes x 20 bags      18.00            39             0            10   \n",
       "1   24 - 12 oz bottles      19.00            17            40            25   \n",
       "2  12 - 550 ml bottles      10.00            13            70            25   \n",
       "3       48 - 6 oz jars      22.00            53             0             0   \n",
       "4             36 boxes      21.35             0             0             0   \n",
       "\n",
       "   Discontinued  \n",
       "0         False  \n",
       "1         False  \n",
       "2         False  \n",
       "3         False  \n",
       "4          True  "
      ]
     },
     "execution_count": 6,
     "metadata": {},
     "output_type": "execute_result"
    }
   ],
   "source": [
    "df2.head()"
   ]
  },
  {
   "cell_type": "markdown",
   "metadata": {},
   "source": [
    "Zatvaranje konekcije"
   ]
  },
  {
   "cell_type": "code",
   "execution_count": 7,
   "metadata": {},
   "outputs": [],
   "source": [
    "conn.close()"
   ]
  },
  {
   "cell_type": "markdown",
   "metadata": {},
   "source": [
    "### Eksport podataka u Excel Sheet"
   ]
  },
  {
   "cell_type": "markdown",
   "metadata": {},
   "source": [
    "Ukoliko bi eksport-ovali jedan `DataFrame` u Excel, mogli bi koristiti sljedecu komandu:"
   ]
  },
  {
   "cell_type": "markdown",
   "metadata": {},
   "source": [
    "`df.to_excel(\"podaci.xlsx\", sheet_name=\"Artikli\", index=False)`"
   ]
  },
  {
   "cell_type": "markdown",
   "metadata": {},
   "source": [
    "Medjutim, s' obzirom da trebamo eksport-ovati vise `DataFrame`-ova, koristimo `ExcelWriter` na sljedeci nacin:"
   ]
  },
  {
   "cell_type": "code",
   "execution_count": 8,
   "metadata": {},
   "outputs": [],
   "source": [
    "with pd.ExcelWriter(\"podaci.xlsx\") as writer:\n",
    "    df1.to_excel(writer, sheet_name=\"Tabela 1\", index=False)\n",
    "    df2.to_excel(writer, sheet_name=\"Tabela 2\", index=False)"
   ]
  },
  {
   "cell_type": "markdown",
   "metadata": {},
   "source": [
    "To je otprilike to. Imas na raspolaganju razne opcije eksport-ovanja u Excel. Mozes pogledati Help."
   ]
  },
  {
   "cell_type": "code",
   "execution_count": 9,
   "metadata": {},
   "outputs": [
    {
     "name": "stdout",
     "output_type": "stream",
     "text": [
      "Help on method to_excel in module pandas.core.generic:\n",
      "\n",
      "to_excel(excel_writer, sheet_name='Sheet1', na_rep='', float_format=None, columns=None, header=True, index=True, index_label=None, startrow=0, startcol=0, engine=None, merge_cells=True, encoding=None, inf_rep='inf', verbose=True, freeze_panes=None) -> None method of pandas.core.frame.DataFrame instance\n",
      "    Write object to an Excel sheet.\n",
      "    \n",
      "    To write a single object to an Excel .xlsx file it is only necessary to\n",
      "    specify a target file name. To write to multiple sheets it is necessary to\n",
      "    create an `ExcelWriter` object with a target file name, and specify a sheet\n",
      "    in the file to write to.\n",
      "    \n",
      "    Multiple sheets may be written to by specifying unique `sheet_name`.\n",
      "    With all data written to the file it is necessary to save the changes.\n",
      "    Note that creating an `ExcelWriter` object with a file name that already\n",
      "    exists will result in the contents of the existing file being erased.\n",
      "    \n",
      "    Parameters\n",
      "    ----------\n",
      "    excel_writer : str or ExcelWriter object\n",
      "        File path or existing ExcelWriter.\n",
      "    sheet_name : str, default 'Sheet1'\n",
      "        Name of sheet which will contain DataFrame.\n",
      "    na_rep : str, default ''\n",
      "        Missing data representation.\n",
      "    float_format : str, optional\n",
      "        Format string for floating point numbers. For example\n",
      "        ``float_format=\"%.2f\"`` will format 0.1234 to 0.12.\n",
      "    columns : sequence or list of str, optional\n",
      "        Columns to write.\n",
      "    header : bool or list of str, default True\n",
      "        Write out the column names. If a list of string is given it is\n",
      "        assumed to be aliases for the column names.\n",
      "    index : bool, default True\n",
      "        Write row names (index).\n",
      "    index_label : str or sequence, optional\n",
      "        Column label for index column(s) if desired. If not specified, and\n",
      "        `header` and `index` are True, then the index names are used. A\n",
      "        sequence should be given if the DataFrame uses MultiIndex.\n",
      "    startrow : int, default 0\n",
      "        Upper left cell row to dump data frame.\n",
      "    startcol : int, default 0\n",
      "        Upper left cell column to dump data frame.\n",
      "    engine : str, optional\n",
      "        Write engine to use, 'openpyxl' or 'xlsxwriter'. You can also set this\n",
      "        via the options ``io.excel.xlsx.writer``, ``io.excel.xls.writer``, and\n",
      "        ``io.excel.xlsm.writer``.\n",
      "    merge_cells : bool, default True\n",
      "        Write MultiIndex and Hierarchical Rows as merged cells.\n",
      "    encoding : str, optional\n",
      "        Encoding of the resulting excel file. Only necessary for xlwt,\n",
      "        other writers support unicode natively.\n",
      "    inf_rep : str, default 'inf'\n",
      "        Representation for infinity (there is no native representation for\n",
      "        infinity in Excel).\n",
      "    verbose : bool, default True\n",
      "        Display more information in the error logs.\n",
      "    freeze_panes : tuple of int (length 2), optional\n",
      "        Specifies the one-based bottommost row and rightmost column that\n",
      "        is to be frozen.\n",
      "    \n",
      "    See Also\n",
      "    --------\n",
      "    to_csv : Write DataFrame to a comma-separated values (csv) file.\n",
      "    ExcelWriter : Class for writing DataFrame objects into excel sheets.\n",
      "    read_excel : Read an Excel file into a pandas DataFrame.\n",
      "    read_csv : Read a comma-separated values (csv) file into DataFrame.\n",
      "    \n",
      "    Notes\n",
      "    -----\n",
      "    For compatibility with :meth:`~DataFrame.to_csv`,\n",
      "    to_excel serializes lists and dicts to strings before writing.\n",
      "    \n",
      "    Once a workbook has been saved it is not possible write further data\n",
      "    without rewriting the whole workbook.\n",
      "    \n",
      "    Examples\n",
      "    --------\n",
      "    \n",
      "    Create, write to and save a workbook:\n",
      "    \n",
      "    >>> df1 = pd.DataFrame([['a', 'b'], ['c', 'd']],\n",
      "    ...                    index=['row 1', 'row 2'],\n",
      "    ...                    columns=['col 1', 'col 2'])\n",
      "    >>> df1.to_excel(\"output.xlsx\")  # doctest: +SKIP\n",
      "    \n",
      "    To specify the sheet name:\n",
      "    \n",
      "    >>> df1.to_excel(\"output.xlsx\",\n",
      "    ...              sheet_name='Sheet_name_1')  # doctest: +SKIP\n",
      "    \n",
      "    If you wish to write to more than one sheet in the workbook, it is\n",
      "    necessary to specify an ExcelWriter object:\n",
      "    \n",
      "    >>> df2 = df1.copy()\n",
      "    >>> with pd.ExcelWriter('output.xlsx') as writer:  # doctest: +SKIP\n",
      "    ...     df1.to_excel(writer, sheet_name='Sheet_name_1')\n",
      "    ...     df2.to_excel(writer, sheet_name='Sheet_name_2')\n",
      "    \n",
      "    ExcelWriter can also be used to append to an existing Excel file:\n",
      "    \n",
      "    >>> with pd.ExcelWriter('output.xlsx',\n",
      "    ...                     mode='a') as writer:  # doctest: +SKIP\n",
      "    ...     df.to_excel(writer, sheet_name='Sheet_name_3')\n",
      "    \n",
      "    To set the library that is used to write the Excel file,\n",
      "    you can pass the `engine` keyword (the default engine is\n",
      "    automatically chosen depending on the file extension):\n",
      "    \n",
      "    >>> df1.to_excel('output1.xlsx', engine='xlsxwriter')  # doctest: +SKIP\n",
      "\n"
     ]
    }
   ],
   "source": [
    "help(df1.to_excel)"
   ]
  },
  {
   "cell_type": "markdown",
   "metadata": {},
   "source": [
    "### Slanje podataka na E-mail"
   ]
  },
  {
   "cell_type": "markdown",
   "metadata": {},
   "source": [
    "Evo ti jedne funkcije koju mozes koristiti za slanje e-mail poruka sa attachment-om, slikama i sl. Funkcionise sasvim OK sa raznim e-mail provajderima i tu ne bi trebalo da imas problem."
   ]
  },
  {
   "cell_type": "code",
   "execution_count": 4,
   "metadata": {},
   "outputs": [],
   "source": [
    "import smtplib, os\n",
    "from email.mime.multipart import MIMEMultipart\n",
    "from email.mime.base import MIMEBase\n",
    "from email.mime.text import MIMEText\n",
    "from email.mime.image import MIMEImage\n",
    "from email.utils import COMMASPACE, formatdate\n",
    "from email import encoders\n",
    "\n",
    "# Ti zamijeni default vrijednosti tvojim, ili ih zadaj tokom pozivanja funkcije\n",
    "def send_mail(send_from, send_to, subject, text, files=None, data_attachments=None, \n",
    "              server=\"smtp.office365.com\", port=587, tls=True, html=True, images=None, username=None, password=None):\n",
    "\n",
    "    if files is None: files = []\n",
    "    if images is None: images = []\n",
    "    if data_attachments is None: data_attachments = []\n",
    "\n",
    "    msg = MIMEMultipart('related')\n",
    "    msg['From'] = send_from\n",
    "    msg['To'] = send_to if isinstance(send_to, str) else COMMASPACE.join(send_to)\n",
    "    msg['Date'] = formatdate(localtime=True)\n",
    "    msg['Subject'] = subject\n",
    "\n",
    "    msg.attach( MIMEText(text, 'html' if html else 'plain') )\n",
    "\n",
    "    for f in files:\n",
    "        part = MIMEBase('application', \"octet-stream\")\n",
    "        part.set_payload( open(f,\"rb\").read() )\n",
    "        encoders.encode_base64(part)\n",
    "        part.add_header('Content-Disposition', 'attachment; filename=\"%s\"' % os.path.basename(f))\n",
    "        msg.attach(part)\n",
    "\n",
    "    for f in data_attachments:\n",
    "        part = MIMEBase('application', \"octet-stream\")\n",
    "        part.set_payload( f['data'] )\n",
    "        encoders.encode_base64(part)\n",
    "        part.add_header('Content-Disposition', 'attachment; filename=\"%s\"' % f['filename'])\n",
    "        msg.attach(part)\n",
    "\n",
    "    for (n, i) in enumerate(images):\n",
    "        fp = open(i, 'rb')\n",
    "        msgImage = MIMEImage(fp.read())\n",
    "        fp.close()\n",
    "        msgImage.add_header('Content-ID', '<image{0}>'.format(str(n+1)))\n",
    "        msg.attach(msgImage)\n",
    "\n",
    "    smtp = smtplib.SMTP(server, int(port))\n",
    "    if tls:\n",
    "        smtp.starttls()\n",
    "\n",
    "    if username is not None:\n",
    "        smtp.login(username, password)\n",
    "    smtp.sendmail(send_from, send_to, msg.as_string())\n",
    "    smtp.close()"
   ]
  },
  {
   "cell_type": "markdown",
   "metadata": {},
   "source": [
    "I, najzad, mozes pozvati funkciju i poslati e-mail sa generisanim Excel prilogom na sljedeci nacin"
   ]
  },
  {
   "cell_type": "code",
   "execution_count": 5,
   "metadata": {},
   "outputs": [],
   "source": [
    "send_mail('\"Djordje NAJDANOVIC\" <djordje@azalea-maritime.com>', \n",
    "          ['djordje@najdanovic.com'], \n",
    "          'E-mail subject', \n",
    "          '<h1>Naslov e-mail poruke</h1><p>Paragraf</p>', \n",
    "          files=['podaci.xlsx'], \n",
    "          username='djordje@azalea-maritime.com', \n",
    "          password='xxxxxxxxxxxxx')"
   ]
  },
  {
   "cell_type": "code",
   "execution_count": null,
   "metadata": {},
   "outputs": [],
   "source": []
  }
 ],
 "metadata": {
  "kernelspec": {
   "display_name": "Python 3",
   "language": "python",
   "name": "python3"
  },
  "language_info": {
   "codemirror_mode": {
    "name": "ipython",
    "version": 3
   },
   "file_extension": ".py",
   "mimetype": "text/x-python",
   "name": "python",
   "nbconvert_exporter": "python",
   "pygments_lexer": "ipython3",
   "version": "3.7.7"
  }
 },
 "nbformat": 4,
 "nbformat_minor": 4
}
